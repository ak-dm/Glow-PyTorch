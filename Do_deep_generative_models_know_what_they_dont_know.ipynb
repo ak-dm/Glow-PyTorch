{
 "cells": [
  {
   "cell_type": "code",
   "execution_count": 1,
   "metadata": {},
   "outputs": [
    {
     "name": "stdout",
     "output_type": "stream",
     "text": [
      "./outputs/Glow_cifar10/Glow_model_*.pth\n",
      "./outputs/VAE_cifar10/VAE_model_*.pth\n"
     ]
    }
   ],
   "source": [
    "import json\n",
    "import glob\n",
    "\n",
    "import torch\n",
    "import matplotlib.pyplot as plt\n",
    "import seaborn as sns\n",
    "sns.set()\n",
    "\n",
    "from datasets import get_CIFAR10, get_SVHN\n",
    "from models.glow import Glow\n",
    "from models.vae import VAE\n",
    "\n",
    "device = torch.device(\"cuda\")\n",
    "\n",
    "dict_dataset = {\n",
    "    \"cifar10\": get_CIFAR10,\n",
    "    \"svhn\": get_SVHN,\n",
    "}\n",
    "\n",
    "output_folder = './outputs/'\n",
    "id_data = \"cifar10\"\n",
    "ood_data = \"svhn\"\n",
    "model_name_list = [\"Glow\", \"VAE\"]\n",
    "model_path_list = []\n",
    "hparams_list = []\n",
    "for model_name in model_name_list:\n",
    "    ms = glob.glob(\"{}{}_{}/{}_model_*.pth\".format(output_folder, model_name, id_data, model_name))\n",
    "    ms.sort()\n",
    "    model_path_list.append(ms[-1])\n",
    "    with open(\"{}{}_{}/hparams.json\".format(output_folder, model_name, id_data)) as f:\n",
    "        hparams_list.append(json.load(f))\n",
    "print(model_path_list)"
   ]
  },
  {
   "cell_type": "code",
   "execution_count": 4,
   "metadata": {},
   "outputs": [],
   "source": [
    "def compute_nll(dataset, model):\n",
    "    dataloader = torch.utils.data.DataLoader(dataset, batch_size=512, num_workers=6)\n",
    "    \n",
    "    nlls = []\n",
    "    for x,y in dataloader:\n",
    "        x = x.to(device)\n",
    "        \n",
    "        if hparams['y_condition']:\n",
    "            y = y.to(device)\n",
    "        else:\n",
    "            y = None\n",
    "        \n",
    "        with torch.no_grad():\n",
    "            _, nll, _, _ = model(x)\n",
    "            nlls.append(nll)\n",
    "        \n",
    "    return torch.cat(nlls).cpu()"
   ]
  },
  {
   "cell_type": "code",
   "execution_count": 6,
   "metadata": {
    "scrolled": true
   },
   "outputs": [
    {
     "name": "stdout",
     "output_type": "stream",
     "text": [
      "Files already downloaded and verified\n",
      "Files already downloaded and verified\n",
      "Using downloaded and verified file: data/SVHN/train_32x32.mat\n",
      "Using downloaded and verified file: data/SVHN/test_32x32.mat\n",
      "cifar10 NLL tensor(3.8838)\n",
      "svhn NLL tensor(2.6814)\n"
     ]
    },
    {
     "data": {
      "image/png": "[encoded data removed]",
      "text/plain": [
       "<Figure size 432x288 with 1 Axes>"
      ]
     },
     "metadata": {
      "needs_background": "light"
     },
     "output_type": "display_data"
    },
    {
     "name": "stdout",
     "output_type": "stream",
     "text": [
      "Files already downloaded and verified\n",
      "Files already downloaded and verified\n",
      "Using downloaded and verified file: data/SVHN/train_32x32.mat\n",
      "Using downloaded and verified file: data/SVHN/test_32x32.mat\n",
      "cifar10 NLL tensor(4.1625)\n",
      "svhn NLL tensor(3.1370)\n"
     ]
    },
    {
     "data": {
      "image/png": "[encoded data removed]",
      "text/plain": [
       "<Figure size 432x288 with 1 Axes>"
      ]
     },
     "metadata": {
      "needs_background": "light"
     },
     "output_type": "display_data"
    }
   ],
   "source": [
    "for i, model_name in enumerate(model_name_list):\n",
    "    hparams = hparams_list[i]\n",
    "    model_path = model_path_list[i]\n",
    "    \n",
    "    image_shape, num_classes, _, test_id = dict_dataset[id_data](hparams['augment'], hparams['dataroot'], hparams['download'])\n",
    "    image_shape, num_classes, _, test_ood = dict_dataset[ood_data](hparams['augment'], hparams['dataroot'], hparams['download'])\n",
    "    if model_name==\"Glow\":\n",
    "        model = Glow(image_shape, hparams['hidden_channels'], hparams['K'], hparams['L'], hparams['actnorm_scale'],\n",
    "                 hparams['flow_permutation'], hparams['flow_coupling'], hparams['LU_decomposed'], num_classes,\n",
    "                 hparams['learn_top'], hparams['y_condition'])\n",
    "        model.load_state_dict(torch.load(model_path))\n",
    "        model.set_actnorm_init()\n",
    "    elif model_name==\"VAE\":\n",
    "        model = VAE(image_shape, hparams['hidden_channels'])\n",
    "        model.load_state_dict(torch.load(model_path))\n",
    "\n",
    "    model = model.to(device)\n",
    "\n",
    "    model = model.eval()\n",
    "\n",
    "    id_nll = compute_nll(test_id, model)\n",
    "    ood_nll = compute_nll(test_ood, model)\n",
    "\n",
    "    print(id_data, \"NLL\", torch.mean(id_nll))\n",
    "    print(ood_data, \"NLL\", torch.mean(ood_nll))\n",
    "    \n",
    "    plt.figure()\n",
    "    plt.title(\"Histogram {} - trained on {}\".format(model_name, id_data))\n",
    "    plt.xlabel(\"Negative bits per dimension\")\n",
    "    plt.hist(-id_nll.numpy(), label=id_data, density=True, bins=30)\n",
    "    plt.hist(-ood_nll.numpy(), label=ood_data, density=True, bins=50)\n",
    "    plt.legend()\n",
    "    plt.show()"
   ]
  },
  {
   "cell_type": "code",
   "execution_count": null,
   "metadata": {},
   "outputs": [],
   "source": []
  }
 ],
 "metadata": {
  "kernelspec": {
   "display_name": "Python 3",
   "language": "python",
   "name": "python3"
  },
  "language_info": {
   "codemirror_mode": {
    "name": "ipython",
    "version": 3
   },
   "file_extension": ".py",
   "mimetype": "text/x-python",
   "name": "python",
   "nbconvert_exporter": "python",
   "pygments_lexer": "ipython3",
   "version": "3.6.9"
  }
 },
 "nbformat": 4,
 "nbformat_minor": 2
}
